{
 "cells": [
  {
   "cell_type": "code",
   "execution_count": 1,
   "id": "297d02ed",
   "metadata": {},
   "outputs": [],
   "source": [
    "import numpy as np\n",
    "import pandas as pd\n",
    "import seaborn as sns\n",
    "import yfinance as yf\n",
    "from datetime import date\n",
    "import matplotlib.pyplot as plt\n",
    "import math\n",
    "from sklearn.metrics import mean_absolute_error, mean_squared_error\n",
    "from sklearn.model_selection import train_test_split\n",
    "from sklearn.linear_model import LinearRegression  \n",
    "from sklearn.preprocessing import StandardScaler\n"
   ]
  },
  {
   "cell_type": "code",
   "execution_count": null,
   "id": "15d58408",
   "metadata": {},
   "outputs": [],
   "source": []
  },
  {
   "cell_type": "code",
   "execution_count": 2,
   "id": "b1a518f4",
   "metadata": {},
   "outputs": [],
   "source": [
    "tick = \"INFY\"\n",
    "#tick = \"AAPL\"\n",
    "\n"
   ]
  },
  {
   "cell_type": "code",
   "execution_count": 4,
   "id": "29a2af3c",
   "metadata": {},
   "outputs": [],
   "source": [
    "START = \"2000-01-01\"\n",
    "TODAY = date.today().strftime(\"%Y-%m-%d\")\n"
   ]
  },
  {
   "cell_type": "code",
   "execution_count": 5,
   "id": "032fe771",
   "metadata": {
    "scrolled": true
   },
   "outputs": [
    {
     "name": "stdout",
     "output_type": "stream",
     "text": [
      "[*********************100%%**********************]  1 of 1 completed\n"
     ]
    },
    {
     "data": {
      "text/html": [
       "<div>\n",
       "<style scoped>\n",
       "    .dataframe tbody tr th:only-of-type {\n",
       "        vertical-align: middle;\n",
       "    }\n",
       "\n",
       "    .dataframe tbody tr th {\n",
       "        vertical-align: top;\n",
       "    }\n",
       "\n",
       "    .dataframe thead th {\n",
       "        text-align: right;\n",
       "    }\n",
       "</style>\n",
       "<table border=\"1\" class=\"dataframe\">\n",
       "  <thead>\n",
       "    <tr style=\"text-align: right;\">\n",
       "      <th></th>\n",
       "      <th>Open</th>\n",
       "      <th>High</th>\n",
       "      <th>Low</th>\n",
       "      <th>Close</th>\n",
       "      <th>Adj Close</th>\n",
       "      <th>Volume</th>\n",
       "    </tr>\n",
       "    <tr>\n",
       "      <th>Date</th>\n",
       "      <th></th>\n",
       "      <th></th>\n",
       "      <th></th>\n",
       "      <th></th>\n",
       "      <th></th>\n",
       "      <th></th>\n",
       "    </tr>\n",
       "  </thead>\n",
       "  <tbody>\n",
       "    <tr>\n",
       "      <th>2000-01-03</th>\n",
       "      <td>5.890625</td>\n",
       "      <td>5.906250</td>\n",
       "      <td>5.462891</td>\n",
       "      <td>5.767578</td>\n",
       "      <td>3.811858</td>\n",
       "      <td>5331200</td>\n",
       "    </tr>\n",
       "    <tr>\n",
       "      <th>2000-01-04</th>\n",
       "      <td>5.641113</td>\n",
       "      <td>6.281250</td>\n",
       "      <td>5.570313</td>\n",
       "      <td>5.812500</td>\n",
       "      <td>3.841548</td>\n",
       "      <td>5056000</td>\n",
       "    </tr>\n",
       "    <tr>\n",
       "      <th>2000-01-05</th>\n",
       "      <td>5.476563</td>\n",
       "      <td>5.855469</td>\n",
       "      <td>5.328125</td>\n",
       "      <td>5.765625</td>\n",
       "      <td>3.810569</td>\n",
       "      <td>6054400</td>\n",
       "    </tr>\n",
       "    <tr>\n",
       "      <th>2000-01-06</th>\n",
       "      <td>5.598633</td>\n",
       "      <td>5.703125</td>\n",
       "      <td>5.156250</td>\n",
       "      <td>5.156250</td>\n",
       "      <td>3.407825</td>\n",
       "      <td>4704000</td>\n",
       "    </tr>\n",
       "    <tr>\n",
       "      <th>2000-01-07</th>\n",
       "      <td>4.945313</td>\n",
       "      <td>5.515625</td>\n",
       "      <td>4.703125</td>\n",
       "      <td>5.515625</td>\n",
       "      <td>3.645340</td>\n",
       "      <td>7884800</td>\n",
       "    </tr>\n",
       "    <tr>\n",
       "      <th>...</th>\n",
       "      <td>...</td>\n",
       "      <td>...</td>\n",
       "      <td>...</td>\n",
       "      <td>...</td>\n",
       "      <td>...</td>\n",
       "      <td>...</td>\n",
       "    </tr>\n",
       "    <tr>\n",
       "      <th>2024-03-19</th>\n",
       "      <td>18.690001</td>\n",
       "      <td>18.850000</td>\n",
       "      <td>18.629999</td>\n",
       "      <td>18.850000</td>\n",
       "      <td>18.850000</td>\n",
       "      <td>9561000</td>\n",
       "    </tr>\n",
       "    <tr>\n",
       "      <th>2024-03-20</th>\n",
       "      <td>18.670000</td>\n",
       "      <td>18.930000</td>\n",
       "      <td>18.639999</td>\n",
       "      <td>18.930000</td>\n",
       "      <td>18.930000</td>\n",
       "      <td>9677300</td>\n",
       "    </tr>\n",
       "    <tr>\n",
       "      <th>2024-03-21</th>\n",
       "      <td>18.350000</td>\n",
       "      <td>18.490000</td>\n",
       "      <td>18.129999</td>\n",
       "      <td>18.209999</td>\n",
       "      <td>18.209999</td>\n",
       "      <td>22905000</td>\n",
       "    </tr>\n",
       "    <tr>\n",
       "      <th>2024-03-22</th>\n",
       "      <td>18.110001</td>\n",
       "      <td>18.120001</td>\n",
       "      <td>17.690001</td>\n",
       "      <td>17.719999</td>\n",
       "      <td>17.719999</td>\n",
       "      <td>15028500</td>\n",
       "    </tr>\n",
       "    <tr>\n",
       "      <th>2024-03-25</th>\n",
       "      <td>17.790001</td>\n",
       "      <td>17.790001</td>\n",
       "      <td>17.590000</td>\n",
       "      <td>17.629999</td>\n",
       "      <td>17.629999</td>\n",
       "      <td>12454200</td>\n",
       "    </tr>\n",
       "  </tbody>\n",
       "</table>\n",
       "<p>6095 rows × 6 columns</p>\n",
       "</div>"
      ],
      "text/plain": [
       "                 Open       High        Low      Close  Adj Close    Volume\n",
       "Date                                                                       \n",
       "2000-01-03   5.890625   5.906250   5.462891   5.767578   3.811858   5331200\n",
       "2000-01-04   5.641113   6.281250   5.570313   5.812500   3.841548   5056000\n",
       "2000-01-05   5.476563   5.855469   5.328125   5.765625   3.810569   6054400\n",
       "2000-01-06   5.598633   5.703125   5.156250   5.156250   3.407825   4704000\n",
       "2000-01-07   4.945313   5.515625   4.703125   5.515625   3.645340   7884800\n",
       "...               ...        ...        ...        ...        ...       ...\n",
       "2024-03-19  18.690001  18.850000  18.629999  18.850000  18.850000   9561000\n",
       "2024-03-20  18.670000  18.930000  18.639999  18.930000  18.930000   9677300\n",
       "2024-03-21  18.350000  18.490000  18.129999  18.209999  18.209999  22905000\n",
       "2024-03-22  18.110001  18.120001  17.690001  17.719999  17.719999  15028500\n",
       "2024-03-25  17.790001  17.790001  17.590000  17.629999  17.629999  12454200\n",
       "\n",
       "[6095 rows x 6 columns]"
      ]
     },
     "execution_count": 5,
     "metadata": {},
     "output_type": "execute_result"
    }
   ],
   "source": [
    "yf.download(tick, START, TODAY)"
   ]
  },
  {
   "cell_type": "code",
   "execution_count": 6,
   "id": "4dcb6739",
   "metadata": {
    "scrolled": true
   },
   "outputs": [
    {
     "name": "stdout",
     "output_type": "stream",
     "text": [
      "[*********************100%%**********************]  1 of 1 completed\n"
     ]
    }
   ],
   "source": [
    "df=yf.download(tick, START, TODAY)"
   ]
  },
  {
   "cell_type": "code",
   "execution_count": 7,
   "id": "943f14c3",
   "metadata": {
    "scrolled": false
   },
   "outputs": [
    {
     "data": {
      "text/html": [
       "<div>\n",
       "<style scoped>\n",
       "    .dataframe tbody tr th:only-of-type {\n",
       "        vertical-align: middle;\n",
       "    }\n",
       "\n",
       "    .dataframe tbody tr th {\n",
       "        vertical-align: top;\n",
       "    }\n",
       "\n",
       "    .dataframe thead th {\n",
       "        text-align: right;\n",
       "    }\n",
       "</style>\n",
       "<table border=\"1\" class=\"dataframe\">\n",
       "  <thead>\n",
       "    <tr style=\"text-align: right;\">\n",
       "      <th></th>\n",
       "      <th>Open</th>\n",
       "      <th>High</th>\n",
       "      <th>Low</th>\n",
       "      <th>Close</th>\n",
       "      <th>Adj Close</th>\n",
       "      <th>Volume</th>\n",
       "    </tr>\n",
       "    <tr>\n",
       "      <th>Date</th>\n",
       "      <th></th>\n",
       "      <th></th>\n",
       "      <th></th>\n",
       "      <th></th>\n",
       "      <th></th>\n",
       "      <th></th>\n",
       "    </tr>\n",
       "  </thead>\n",
       "  <tbody>\n",
       "    <tr>\n",
       "      <th>2024-02-12</th>\n",
       "      <td>20.090000</td>\n",
       "      <td>20.240000</td>\n",
       "      <td>20.090000</td>\n",
       "      <td>20.139999</td>\n",
       "      <td>20.139999</td>\n",
       "      <td>4253200</td>\n",
       "    </tr>\n",
       "    <tr>\n",
       "      <th>2024-02-13</th>\n",
       "      <td>19.920000</td>\n",
       "      <td>20.010000</td>\n",
       "      <td>19.809999</td>\n",
       "      <td>19.860001</td>\n",
       "      <td>19.860001</td>\n",
       "      <td>6914100</td>\n",
       "    </tr>\n",
       "    <tr>\n",
       "      <th>2024-02-14</th>\n",
       "      <td>20.059999</td>\n",
       "      <td>20.200001</td>\n",
       "      <td>19.990000</td>\n",
       "      <td>20.180000</td>\n",
       "      <td>20.180000</td>\n",
       "      <td>7591100</td>\n",
       "    </tr>\n",
       "    <tr>\n",
       "      <th>2024-02-15</th>\n",
       "      <td>20.270000</td>\n",
       "      <td>20.330000</td>\n",
       "      <td>20.190001</td>\n",
       "      <td>20.309999</td>\n",
       "      <td>20.309999</td>\n",
       "      <td>5247500</td>\n",
       "    </tr>\n",
       "    <tr>\n",
       "      <th>2024-02-16</th>\n",
       "      <td>20.350000</td>\n",
       "      <td>20.580000</td>\n",
       "      <td>20.260000</td>\n",
       "      <td>20.469999</td>\n",
       "      <td>20.469999</td>\n",
       "      <td>5516600</td>\n",
       "    </tr>\n",
       "    <tr>\n",
       "      <th>2024-02-20</th>\n",
       "      <td>20.280001</td>\n",
       "      <td>20.400000</td>\n",
       "      <td>19.990000</td>\n",
       "      <td>20.020000</td>\n",
       "      <td>20.020000</td>\n",
       "      <td>7587200</td>\n",
       "    </tr>\n",
       "    <tr>\n",
       "      <th>2024-02-21</th>\n",
       "      <td>19.790001</td>\n",
       "      <td>19.940001</td>\n",
       "      <td>19.680000</td>\n",
       "      <td>19.780001</td>\n",
       "      <td>19.780001</td>\n",
       "      <td>6192500</td>\n",
       "    </tr>\n",
       "    <tr>\n",
       "      <th>2024-02-22</th>\n",
       "      <td>20.200001</td>\n",
       "      <td>20.360001</td>\n",
       "      <td>20.139999</td>\n",
       "      <td>20.309999</td>\n",
       "      <td>20.309999</td>\n",
       "      <td>6590200</td>\n",
       "    </tr>\n",
       "    <tr>\n",
       "      <th>2024-02-23</th>\n",
       "      <td>20.209999</td>\n",
       "      <td>20.260000</td>\n",
       "      <td>20.100000</td>\n",
       "      <td>20.110001</td>\n",
       "      <td>20.110001</td>\n",
       "      <td>4228200</td>\n",
       "    </tr>\n",
       "    <tr>\n",
       "      <th>2024-02-26</th>\n",
       "      <td>19.930000</td>\n",
       "      <td>20.030001</td>\n",
       "      <td>19.830000</td>\n",
       "      <td>19.990000</td>\n",
       "      <td>19.990000</td>\n",
       "      <td>5145700</td>\n",
       "    </tr>\n",
       "    <tr>\n",
       "      <th>2024-02-27</th>\n",
       "      <td>19.980000</td>\n",
       "      <td>20.059999</td>\n",
       "      <td>19.930000</td>\n",
       "      <td>20.000000</td>\n",
       "      <td>20.000000</td>\n",
       "      <td>2751500</td>\n",
       "    </tr>\n",
       "    <tr>\n",
       "      <th>2024-02-28</th>\n",
       "      <td>19.950001</td>\n",
       "      <td>19.959999</td>\n",
       "      <td>19.809999</td>\n",
       "      <td>19.950001</td>\n",
       "      <td>19.950001</td>\n",
       "      <td>4344500</td>\n",
       "    </tr>\n",
       "    <tr>\n",
       "      <th>2024-02-29</th>\n",
       "      <td>20.030001</td>\n",
       "      <td>20.090000</td>\n",
       "      <td>19.930000</td>\n",
       "      <td>19.959999</td>\n",
       "      <td>19.959999</td>\n",
       "      <td>6256900</td>\n",
       "    </tr>\n",
       "    <tr>\n",
       "      <th>2024-03-01</th>\n",
       "      <td>19.920000</td>\n",
       "      <td>19.920000</td>\n",
       "      <td>19.760000</td>\n",
       "      <td>19.830000</td>\n",
       "      <td>19.830000</td>\n",
       "      <td>6151800</td>\n",
       "    </tr>\n",
       "    <tr>\n",
       "      <th>2024-03-04</th>\n",
       "      <td>19.639999</td>\n",
       "      <td>19.809999</td>\n",
       "      <td>19.500000</td>\n",
       "      <td>19.799999</td>\n",
       "      <td>19.799999</td>\n",
       "      <td>6821800</td>\n",
       "    </tr>\n",
       "    <tr>\n",
       "      <th>2024-03-05</th>\n",
       "      <td>19.389999</td>\n",
       "      <td>19.490000</td>\n",
       "      <td>19.219999</td>\n",
       "      <td>19.290001</td>\n",
       "      <td>19.290001</td>\n",
       "      <td>7522600</td>\n",
       "    </tr>\n",
       "    <tr>\n",
       "      <th>2024-03-06</th>\n",
       "      <td>19.520000</td>\n",
       "      <td>19.620001</td>\n",
       "      <td>19.299999</td>\n",
       "      <td>19.330000</td>\n",
       "      <td>19.330000</td>\n",
       "      <td>9226500</td>\n",
       "    </tr>\n",
       "    <tr>\n",
       "      <th>2024-03-07</th>\n",
       "      <td>19.500000</td>\n",
       "      <td>19.520000</td>\n",
       "      <td>19.340000</td>\n",
       "      <td>19.389999</td>\n",
       "      <td>19.389999</td>\n",
       "      <td>11084100</td>\n",
       "    </tr>\n",
       "    <tr>\n",
       "      <th>2024-03-08</th>\n",
       "      <td>19.400000</td>\n",
       "      <td>19.450001</td>\n",
       "      <td>19.250000</td>\n",
       "      <td>19.260000</td>\n",
       "      <td>19.260000</td>\n",
       "      <td>8183300</td>\n",
       "    </tr>\n",
       "    <tr>\n",
       "      <th>2024-03-11</th>\n",
       "      <td>19.209999</td>\n",
       "      <td>19.299999</td>\n",
       "      <td>19.170000</td>\n",
       "      <td>19.219999</td>\n",
       "      <td>19.219999</td>\n",
       "      <td>8544100</td>\n",
       "    </tr>\n",
       "    <tr>\n",
       "      <th>2024-03-12</th>\n",
       "      <td>19.430000</td>\n",
       "      <td>19.570000</td>\n",
       "      <td>19.350000</td>\n",
       "      <td>19.420000</td>\n",
       "      <td>19.420000</td>\n",
       "      <td>11415900</td>\n",
       "    </tr>\n",
       "    <tr>\n",
       "      <th>2024-03-13</th>\n",
       "      <td>19.350000</td>\n",
       "      <td>19.450001</td>\n",
       "      <td>19.290001</td>\n",
       "      <td>19.389999</td>\n",
       "      <td>19.389999</td>\n",
       "      <td>7171000</td>\n",
       "    </tr>\n",
       "    <tr>\n",
       "      <th>2024-03-14</th>\n",
       "      <td>19.799999</td>\n",
       "      <td>19.910000</td>\n",
       "      <td>19.570000</td>\n",
       "      <td>19.660000</td>\n",
       "      <td>19.660000</td>\n",
       "      <td>8476900</td>\n",
       "    </tr>\n",
       "    <tr>\n",
       "      <th>2024-03-15</th>\n",
       "      <td>19.620001</td>\n",
       "      <td>19.660000</td>\n",
       "      <td>19.219999</td>\n",
       "      <td>19.230000</td>\n",
       "      <td>19.230000</td>\n",
       "      <td>13296100</td>\n",
       "    </tr>\n",
       "    <tr>\n",
       "      <th>2024-03-18</th>\n",
       "      <td>19.190001</td>\n",
       "      <td>19.230000</td>\n",
       "      <td>19.070000</td>\n",
       "      <td>19.170000</td>\n",
       "      <td>19.170000</td>\n",
       "      <td>6324200</td>\n",
       "    </tr>\n",
       "    <tr>\n",
       "      <th>2024-03-19</th>\n",
       "      <td>18.690001</td>\n",
       "      <td>18.850000</td>\n",
       "      <td>18.629999</td>\n",
       "      <td>18.850000</td>\n",
       "      <td>18.850000</td>\n",
       "      <td>9561000</td>\n",
       "    </tr>\n",
       "    <tr>\n",
       "      <th>2024-03-20</th>\n",
       "      <td>18.670000</td>\n",
       "      <td>18.930000</td>\n",
       "      <td>18.639999</td>\n",
       "      <td>18.930000</td>\n",
       "      <td>18.930000</td>\n",
       "      <td>9677300</td>\n",
       "    </tr>\n",
       "    <tr>\n",
       "      <th>2024-03-21</th>\n",
       "      <td>18.350000</td>\n",
       "      <td>18.490000</td>\n",
       "      <td>18.129999</td>\n",
       "      <td>18.209999</td>\n",
       "      <td>18.209999</td>\n",
       "      <td>22905000</td>\n",
       "    </tr>\n",
       "    <tr>\n",
       "      <th>2024-03-22</th>\n",
       "      <td>18.110001</td>\n",
       "      <td>18.120001</td>\n",
       "      <td>17.690001</td>\n",
       "      <td>17.719999</td>\n",
       "      <td>17.719999</td>\n",
       "      <td>15028500</td>\n",
       "    </tr>\n",
       "    <tr>\n",
       "      <th>2024-03-25</th>\n",
       "      <td>17.790001</td>\n",
       "      <td>17.790001</td>\n",
       "      <td>17.590000</td>\n",
       "      <td>17.629999</td>\n",
       "      <td>17.629999</td>\n",
       "      <td>12454200</td>\n",
       "    </tr>\n",
       "  </tbody>\n",
       "</table>\n",
       "</div>"
      ],
      "text/plain": [
       "                 Open       High        Low      Close  Adj Close    Volume\n",
       "Date                                                                       \n",
       "2024-02-12  20.090000  20.240000  20.090000  20.139999  20.139999   4253200\n",
       "2024-02-13  19.920000  20.010000  19.809999  19.860001  19.860001   6914100\n",
       "2024-02-14  20.059999  20.200001  19.990000  20.180000  20.180000   7591100\n",
       "2024-02-15  20.270000  20.330000  20.190001  20.309999  20.309999   5247500\n",
       "2024-02-16  20.350000  20.580000  20.260000  20.469999  20.469999   5516600\n",
       "2024-02-20  20.280001  20.400000  19.990000  20.020000  20.020000   7587200\n",
       "2024-02-21  19.790001  19.940001  19.680000  19.780001  19.780001   6192500\n",
       "2024-02-22  20.200001  20.360001  20.139999  20.309999  20.309999   6590200\n",
       "2024-02-23  20.209999  20.260000  20.100000  20.110001  20.110001   4228200\n",
       "2024-02-26  19.930000  20.030001  19.830000  19.990000  19.990000   5145700\n",
       "2024-02-27  19.980000  20.059999  19.930000  20.000000  20.000000   2751500\n",
       "2024-02-28  19.950001  19.959999  19.809999  19.950001  19.950001   4344500\n",
       "2024-02-29  20.030001  20.090000  19.930000  19.959999  19.959999   6256900\n",
       "2024-03-01  19.920000  19.920000  19.760000  19.830000  19.830000   6151800\n",
       "2024-03-04  19.639999  19.809999  19.500000  19.799999  19.799999   6821800\n",
       "2024-03-05  19.389999  19.490000  19.219999  19.290001  19.290001   7522600\n",
       "2024-03-06  19.520000  19.620001  19.299999  19.330000  19.330000   9226500\n",
       "2024-03-07  19.500000  19.520000  19.340000  19.389999  19.389999  11084100\n",
       "2024-03-08  19.400000  19.450001  19.250000  19.260000  19.260000   8183300\n",
       "2024-03-11  19.209999  19.299999  19.170000  19.219999  19.219999   8544100\n",
       "2024-03-12  19.430000  19.570000  19.350000  19.420000  19.420000  11415900\n",
       "2024-03-13  19.350000  19.450001  19.290001  19.389999  19.389999   7171000\n",
       "2024-03-14  19.799999  19.910000  19.570000  19.660000  19.660000   8476900\n",
       "2024-03-15  19.620001  19.660000  19.219999  19.230000  19.230000  13296100\n",
       "2024-03-18  19.190001  19.230000  19.070000  19.170000  19.170000   6324200\n",
       "2024-03-19  18.690001  18.850000  18.629999  18.850000  18.850000   9561000\n",
       "2024-03-20  18.670000  18.930000  18.639999  18.930000  18.930000   9677300\n",
       "2024-03-21  18.350000  18.490000  18.129999  18.209999  18.209999  22905000\n",
       "2024-03-22  18.110001  18.120001  17.690001  17.719999  17.719999  15028500\n",
       "2024-03-25  17.790001  17.790001  17.590000  17.629999  17.629999  12454200"
      ]
     },
     "execution_count": 7,
     "metadata": {},
     "output_type": "execute_result"
    }
   ],
   "source": [
    "df.tail(30)"
   ]
  },
  {
   "cell_type": "code",
   "execution_count": 8,
   "id": "ff87c27a",
   "metadata": {},
   "outputs": [
    {
     "data": {
      "text/plain": [
       "(6095, 6)"
      ]
     },
     "execution_count": 8,
     "metadata": {},
     "output_type": "execute_result"
    }
   ],
   "source": [
    "df.shape"
   ]
  },
  {
   "cell_type": "code",
   "execution_count": 9,
   "id": "5f3e662e",
   "metadata": {},
   "outputs": [
    {
     "name": "stdout",
     "output_type": "stream",
     "text": [
      "6095\n"
     ]
    }
   ],
   "source": [
    "print(len(df))"
   ]
  },
  {
   "cell_type": "code",
   "execution_count": 10,
   "id": "4029a953",
   "metadata": {
    "scrolled": true
   },
   "outputs": [
    {
     "data": {
      "text/html": [
       "<div>\n",
       "<style scoped>\n",
       "    .dataframe tbody tr th:only-of-type {\n",
       "        vertical-align: middle;\n",
       "    }\n",
       "\n",
       "    .dataframe tbody tr th {\n",
       "        vertical-align: top;\n",
       "    }\n",
       "\n",
       "    .dataframe thead th {\n",
       "        text-align: right;\n",
       "    }\n",
       "</style>\n",
       "<table border=\"1\" class=\"dataframe\">\n",
       "  <thead>\n",
       "    <tr style=\"text-align: right;\">\n",
       "      <th></th>\n",
       "      <th>Open</th>\n",
       "      <th>High</th>\n",
       "      <th>Low</th>\n",
       "      <th>Close</th>\n",
       "      <th>Adj Close</th>\n",
       "      <th>Volume</th>\n",
       "    </tr>\n",
       "  </thead>\n",
       "  <tbody>\n",
       "    <tr>\n",
       "      <th>count</th>\n",
       "      <td>6095.000000</td>\n",
       "      <td>6095.000000</td>\n",
       "      <td>6095.000000</td>\n",
       "      <td>6095.000000</td>\n",
       "      <td>6095.000000</td>\n",
       "      <td>6.095000e+03</td>\n",
       "    </tr>\n",
       "    <tr>\n",
       "      <th>mean</th>\n",
       "      <td>7.984832</td>\n",
       "      <td>8.069979</td>\n",
       "      <td>7.899122</td>\n",
       "      <td>7.985999</td>\n",
       "      <td>6.704659</td>\n",
       "      <td>1.150395e+07</td>\n",
       "    </tr>\n",
       "    <tr>\n",
       "      <th>std</th>\n",
       "      <td>5.262109</td>\n",
       "      <td>5.293676</td>\n",
       "      <td>5.232983</td>\n",
       "      <td>5.264660</td>\n",
       "      <td>5.371571</td>\n",
       "      <td>8.956651e+06</td>\n",
       "    </tr>\n",
       "    <tr>\n",
       "      <th>min</th>\n",
       "      <td>1.015938</td>\n",
       "      <td>1.070938</td>\n",
       "      <td>0.956250</td>\n",
       "      <td>1.031875</td>\n",
       "      <td>0.683134</td>\n",
       "      <td>3.360000e+05</td>\n",
       "    </tr>\n",
       "    <tr>\n",
       "      <th>25%</th>\n",
       "      <td>4.553437</td>\n",
       "      <td>4.624687</td>\n",
       "      <td>4.485000</td>\n",
       "      <td>4.550000</td>\n",
       "      <td>3.133506</td>\n",
       "      <td>6.099400e+06</td>\n",
       "    </tr>\n",
       "    <tr>\n",
       "      <th>50%</th>\n",
       "      <td>6.886250</td>\n",
       "      <td>6.962500</td>\n",
       "      <td>6.806250</td>\n",
       "      <td>6.892500</td>\n",
       "      <td>5.191236</td>\n",
       "      <td>9.401500e+06</td>\n",
       "    </tr>\n",
       "    <tr>\n",
       "      <th>75%</th>\n",
       "      <td>9.140000</td>\n",
       "      <td>9.236875</td>\n",
       "      <td>9.050000</td>\n",
       "      <td>9.145000</td>\n",
       "      <td>7.599345</td>\n",
       "      <td>1.426060e+07</td>\n",
       "    </tr>\n",
       "    <tr>\n",
       "      <th>max</th>\n",
       "      <td>26.150000</td>\n",
       "      <td>26.389999</td>\n",
       "      <td>25.580000</td>\n",
       "      <td>26.200001</td>\n",
       "      <td>24.964008</td>\n",
       "      <td>1.475912e+08</td>\n",
       "    </tr>\n",
       "  </tbody>\n",
       "</table>\n",
       "</div>"
      ],
      "text/plain": [
       "              Open         High          Low        Close    Adj Close  \\\n",
       "count  6095.000000  6095.000000  6095.000000  6095.000000  6095.000000   \n",
       "mean      7.984832     8.069979     7.899122     7.985999     6.704659   \n",
       "std       5.262109     5.293676     5.232983     5.264660     5.371571   \n",
       "min       1.015938     1.070938     0.956250     1.031875     0.683134   \n",
       "25%       4.553437     4.624687     4.485000     4.550000     3.133506   \n",
       "50%       6.886250     6.962500     6.806250     6.892500     5.191236   \n",
       "75%       9.140000     9.236875     9.050000     9.145000     7.599345   \n",
       "max      26.150000    26.389999    25.580000    26.200001    24.964008   \n",
       "\n",
       "             Volume  \n",
       "count  6.095000e+03  \n",
       "mean   1.150395e+07  \n",
       "std    8.956651e+06  \n",
       "min    3.360000e+05  \n",
       "25%    6.099400e+06  \n",
       "50%    9.401500e+06  \n",
       "75%    1.426060e+07  \n",
       "max    1.475912e+08  "
      ]
     },
     "execution_count": 10,
     "metadata": {},
     "output_type": "execute_result"
    }
   ],
   "source": [
    "df.describe()"
   ]
  },
  {
   "cell_type": "code",
   "execution_count": 11,
   "id": "afa26e93",
   "metadata": {},
   "outputs": [
    {
     "data": {
      "text/plain": [
       "Text(0.5, 1.0, 'Low')"
      ]
     },
     "execution_count": 11,
     "metadata": {},
     "output_type": "execute_result"
    },
    {
     "data": {
      "image/png": "[encoded data removed]",
      "text/plain": [
       "<Figure size 2000x1000 with 4 Axes>"
      ]
     },
     "metadata": {},
     "output_type": "display_data"
    }
   ],
   "source": [
    "plt.figure(figsize=(20,10))\n",
    "#Plot 1\n",
    "plt.subplot(2,2,1)\n",
    "plt.plot(df['Open'],color='green')\n",
    "plt.xlabel('Date')\n",
    "plt.ylabel('Open Price')\n",
    "plt.title('Open')\n",
    "#Plot 2\n",
    "plt.subplot(2,2,2)\n",
    "plt.plot(df['Close'],color='red')\n",
    "plt.xlabel('Date')\n",
    "plt.ylabel('Close Price')\n",
    "plt.title('Close')\n",
    "#Plot 3\n",
    "plt.subplot(2,2,3)\n",
    "plt.plot(df['High'],color='green')\n",
    "plt.xlabel('Date')\n",
    "plt.ylabel('High Price')\n",
    "plt.title('High')\n",
    "#Plot 4\n",
    "plt.subplot(2,2,4)\n",
    "plt.plot(df['Low'],color='red')\n",
    "plt.xlabel('Date')\n",
    "plt.ylabel('Low Price')\n",
    "plt.title('Low')\n"
   ]
  },
  {
   "cell_type": "code",
   "execution_count": 11,
   "id": "3cdcf1b4",
   "metadata": {},
   "outputs": [
    {
     "data": {
      "text/plain": [
       "<Axes: xlabel='Date'>"
      ]
     },
     "execution_count": 11,
     "metadata": {},
     "output_type": "execute_result"
    },
    {
     "data": {
      "image/png": "[encoded data removed]",
      "text/plain": [
       "<Figure size 1600x600 with 1 Axes>"
      ]
     },
     "metadata": {},
     "output_type": "display_data"
    }
   ],
   "source": [
    "df['Volume'].plot(figsize=(16,6))\n"
   ]
  },
  {
   "cell_type": "markdown",
   "id": "be227132",
   "metadata": {},
   "source": [
    "# linear regression"
   ]
  },
  {
   "cell_type": "code",
   "execution_count": 12,
   "id": "b8d7e329",
   "metadata": {},
   "outputs": [],
   "source": [
    "from sklearn.linear_model import LinearRegression\n",
    "from sklearn.model_selection import cross_val_score, train_test_split\n",
    "from sklearn.preprocessing import StandardScaler\n"
   ]
  },
  {
   "cell_type": "code",
   "execution_count": 13,
   "id": "54f48536",
   "metadata": {},
   "outputs": [],
   "source": [
    "x= df[['Open','High', 'Low', 'Volume']].values\n",
    "y= df['Close'].values"
   ]
  },
  {
   "cell_type": "code",
   "execution_count": 14,
   "id": "1a651e81",
   "metadata": {},
   "outputs": [],
   "source": [
    "from sklearn.model_selection import train_test_split\n",
    "x_train, x_test, y_train, y_test = train_test_split(x,y, test_size=0.2, random_state = 42)"
   ]
  },
  {
   "cell_type": "code",
   "execution_count": 15,
   "id": "0fa065bf",
   "metadata": {},
   "outputs": [],
   "source": [
    "scaler = StandardScaler()\n",
    "\n",
    "# Fit scaler on training data and transform training data\n",
    "X_train_scaled = scaler.fit_transform(x_train)\n"
   ]
  },
  {
   "cell_type": "code",
   "execution_count": 16,
   "id": "2667823a",
   "metadata": {},
   "outputs": [
    {
     "name": "stdout",
     "output_type": "stream",
     "text": [
      "[[7.90179014e-01 8.27287972e-01 7.67857015e-01 4.06750400e+08]\n",
      " [2.71625004e+01 2.76049995e+01 2.71499996e+01 1.82404400e+08]\n",
      " [5.77250004e+00 5.86571407e+00 5.76464319e+00 4.31152400e+08]\n",
      " ...\n",
      " [1.15279999e+02 1.17000000e+02 1.14919998e+02 1.00506900e+08]\n",
      " [1.26169998e+02 1.26320000e+02 1.24830002e+02 7.10576000e+07]\n",
      " [3.02500010e-01 3.04286003e-01 2.96963990e-01 2.59952000e+08]]\n"
     ]
    }
   ],
   "source": [
    "print(x_train)"
   ]
  },
  {
   "cell_type": "code",
   "execution_count": 17,
   "id": "b5e0a9a6",
   "metadata": {},
   "outputs": [],
   "source": [
    "# Initialize Linear Regression model\n",
    "model = LinearRegression()\n"
   ]
  },
  {
   "cell_type": "code",
   "execution_count": 18,
   "id": "f075fea4",
   "metadata": {},
   "outputs": [],
   "source": [
    "# Perform cross-validation\n",
    "cv_scores = cross_val_score(model, X_train_scaled, y_train, cv=5, scoring='neg_mean_squared_error')"
   ]
  },
  {
   "cell_type": "code",
   "execution_count": 19,
   "id": "c083aca5",
   "metadata": {},
   "outputs": [],
   "source": [
    "# Convert the negative MSE scores to positive\n",
    "cv_scores = -cv_scores"
   ]
  },
  {
   "cell_type": "code",
   "execution_count": 20,
   "id": "459081cc",
   "metadata": {
    "scrolled": true
   },
   "outputs": [
    {
     "name": "stdout",
     "output_type": "stream",
     "text": [
      "Cross-Validation Scores: [0.19776392 0.19501664 0.16975012 0.16319321 0.17084182]\n",
      "Mean CV Score: 0.17931314306541668\n"
     ]
    }
   ],
   "source": [
    "# Print the cross-validation scores\n",
    "print(\"Cross-Validation Scores:\", cv_scores)\n",
    "print(\"Mean CV Score:\", cv_scores.mean())"
   ]
  },
  {
   "cell_type": "code",
   "execution_count": 21,
   "id": "9c49605e",
   "metadata": {},
   "outputs": [],
   "source": [
    "# Train the model on the entire training set\n",
    "model.fit(X_train_scaled, y_train)\n",
    "\n",
    "# Transform testing data using the same scaler\n",
    "X_test_scaled = scaler.transform(x_test)\n",
    "\n",
    "# Make predictions on the test set\n",
    "predictions = model.predict(X_test_scaled)"
   ]
  },
  {
   "cell_type": "code",
   "execution_count": 84,
   "id": "a4327005",
   "metadata": {},
   "outputs": [
    {
     "data": {
      "text/plain": [
       "array([[ 47.72999963],\n",
       "       [ 47.52000052],\n",
       "       [ 47.25000007],\n",
       "       ...,\n",
       "       [171.13000517],\n",
       "       [173.00000028],\n",
       "       [172.61999541]])"
      ]
     },
     "execution_count": 84,
     "metadata": {},
     "output_type": "execute_result"
    }
   ],
   "source": [
    "predictions"
   ]
  },
  {
   "cell_type": "code",
   "execution_count": 23,
   "id": "85054d28",
   "metadata": {},
   "outputs": [
    {
     "name": "stdout",
     "output_type": "stream",
     "text": [
      "[-3.48053232e+01  4.50136790e+01  4.29849022e+01  5.12342054e-03]\n"
     ]
    }
   ],
   "source": [
    "print(model.coef_)"
   ]
  },
  {
   "cell_type": "code",
   "execution_count": 24,
   "id": "86677209",
   "metadata": {},
   "outputs": [
    {
     "name": "stdout",
     "output_type": "stream",
     "text": [
      "37.818894749141364\n"
     ]
    }
   ],
   "source": [
    "print(model.intercept_)"
   ]
  },
  {
   "cell_type": "code",
   "execution_count": 25,
   "id": "c390cbec",
   "metadata": {},
   "outputs": [],
   "source": [
    "import math\n",
    "from sklearn.metrics import mean_absolute_error, mean_squared_error"
   ]
  },
  {
   "cell_type": "code",
   "execution_count": null,
   "id": "aded6215",
   "metadata": {},
   "outputs": [],
   "source": []
  },
  {
   "cell_type": "code",
   "execution_count": 22,
   "id": "d1779809",
   "metadata": {},
   "outputs": [
    {
     "name": "stdout",
     "output_type": "stream",
     "text": [
      "The model score is Testing : 0.9999456649628469\n",
      "The model score is Training : 0.9999382301708559\n"
     ]
    }
   ],
   "source": [
    "print('The model score is Testing :', model.score(X_test_scaled,y_test))\n",
    "print('The model score is Training :', model.score(X_train_scaled,y_train))"
   ]
  },
  {
   "cell_type": "code",
   "execution_count": 26,
   "id": "8ef52a38",
   "metadata": {},
   "outputs": [
    {
     "name": "stdout",
     "output_type": "stream",
     "text": [
      "Mean Squared Error on Test Set: 0.13652777402419589\n",
      "Mean Absolute Error on Test Set: 0.15382322050037694\n",
      "Root Mean Squared Error on Test Set: 0.3694966495439382\n"
     ]
    }
   ],
   "source": [
    "mse = mean_squared_error(y_test, predictions)\n",
    "print(\"Mean Squared Error on Test Set:\", mse)\n",
    "mae = mean_absolute_error(y_test, predictions)\n",
    "print(\"Mean Absolute Error on Test Set:\", mae)\n",
    "#from sklearn.metrics import mean_squared_error\n",
    "def root_mean_squared_error(y_test, predictions):\n",
    "    root_mean_squared_error = mean_squared_error(y_test, predictions, squared=False)\n",
    "    return root_mean_squared_error\n",
    "rmse= root_mean_squared_error(y_test, predictions)\n",
    "print(\"Root Mean Squared Error on Test Set:\", rmse)"
   ]
  },
  {
   "cell_type": "code",
   "execution_count": 27,
   "id": "cef40118",
   "metadata": {},
   "outputs": [
    {
     "data": {
      "text/plain": [
       "0.9999456649628469"
      ]
     },
     "execution_count": 27,
     "metadata": {},
     "output_type": "execute_result"
    }
   ],
   "source": [
    "from sklearn.metrics import r2_score \n",
    "r2_score(y_test, predictions)"
   ]
  },
  {
   "cell_type": "code",
   "execution_count": 28,
   "id": "7de86f54",
   "metadata": {},
   "outputs": [],
   "source": [
    "import numpy as np\n",
    "import pandas as pd"
   ]
  },
  {
   "cell_type": "code",
   "execution_count": 29,
   "id": "1dc44048",
   "metadata": {},
   "outputs": [
    {
     "name": "stdout",
     "output_type": "stream",
     "text": [
      "   Actual Price  Predicted Price\n",
      "0     10.398571        10.436943\n",
      "1     22.726429        22.690944\n",
      "2    193.220001       194.222490\n",
      "3      0.429821         0.426552\n",
      "4     20.816071        20.802483\n",
      "5      9.241786         9.205562\n",
      "6      0.333705         0.338041\n",
      "7      0.427143         0.424547\n",
      "8      2.958214         2.945070\n",
      "9     40.735001        40.652887\n"
     ]
    }
   ],
   "source": [
    "newdata=pd.DataFrame(y_test, predictions)\n",
    "newdata=pd.DataFrame({'Actual Price' :y_test.flatten(), 'Predicted Price' :predictions.flatten() })\n",
    "print(newdata.head(10))"
   ]
  },
  {
   "cell_type": "code",
   "execution_count": 187,
   "id": "6dcc03a7",
   "metadata": {},
   "outputs": [],
   "source": [
    "newdata.to_excel('predicted_prices.xlsx', index=False)"
   ]
  },
  {
   "cell_type": "code",
   "execution_count": 188,
   "id": "cd4010c9",
   "metadata": {},
   "outputs": [
    {
     "data": {
      "text/plain": [
       "<Axes: >"
      ]
     },
     "execution_count": 188,
     "metadata": {},
     "output_type": "execute_result"
    },
    {
     "data": {
      "image/png": "[encoded data removed]",
      "text/plain": [
       "<Figure size 2000x700 with 1 Axes>"
      ]
     },
     "metadata": {},
     "output_type": "display_data"
    }
   ],
   "source": [
    "graph=newdata.tail(50)\n",
    "graph.plot(kind='bar', figsize=(20,7))"
   ]
  },
  {
   "cell_type": "code",
   "execution_count": null,
   "id": "308b4aee",
   "metadata": {},
   "outputs": [],
   "source": []
  },
  {
   "cell_type": "markdown",
   "id": "185095e1",
   "metadata": {},
   "source": [
    "# RandomForestRegressor"
   ]
  },
  {
   "cell_type": "code",
   "execution_count": 189,
   "id": "fb5bb126",
   "metadata": {},
   "outputs": [],
   "source": [
    "x= df[['High', 'Low', 'Open', 'Volume']].values\n",
    "y= df['Close'].values\n",
    "\n",
    "\n",
    "from sklearn.model_selection import train_test_split\n",
    "x_train, x_test, y_train, y_test = train_test_split(x,y, test_size=0.2, random_state = 42)"
   ]
  },
  {
   "cell_type": "code",
   "execution_count": 190,
   "id": "ad82e746",
   "metadata": {},
   "outputs": [],
   "source": [
    "from sklearn.ensemble import RandomForestRegressor \n",
    "from sklearn.model_selection import cross_val_score\n",
    "model = RandomForestRegressor()"
   ]
  },
  {
   "cell_type": "code",
   "execution_count": 191,
   "id": "7cdf48db",
   "metadata": {},
   "outputs": [],
   "source": [
    "scaler = StandardScaler()\n",
    "# Fit scaler on training data and transform training data\n",
    "X_train_scaled = scaler.fit_transform(x_train)"
   ]
  },
  {
   "cell_type": "code",
   "execution_count": 192,
   "id": "e490c5f0",
   "metadata": {},
   "outputs": [],
   "source": [
    "# Perform cross-validation\n",
    "cv_scores = cross_val_score(model, X_train_scaled, y_train, cv=5, scoring='neg_mean_squared_error')\n",
    "# Convert the negative MSE scores to positive\n",
    "cv_scores = -cv_scores"
   ]
  },
  {
   "cell_type": "code",
   "execution_count": 193,
   "id": "094fda7d",
   "metadata": {},
   "outputs": [
    {
     "name": "stdout",
     "output_type": "stream",
     "text": [
      "Cross-Validation Scores: [0.37291223 0.25731319 0.32981438 0.25994881 0.3351306 ]\n",
      "Mean CV Score: 0.31102384261141225\n"
     ]
    }
   ],
   "source": [
    "# Print the cross-validation scores\n",
    "print(\"Cross-Validation Scores:\", cv_scores)\n",
    "print(\"Mean CV Score:\", cv_scores.mean())"
   ]
  },
  {
   "cell_type": "code",
   "execution_count": 194,
   "id": "23e6008c",
   "metadata": {},
   "outputs": [],
   "source": [
    "# Train the model on the entire training set\n",
    "model.fit(X_train_scaled, y_train)\n",
    "# Transform testing data using the same scaler\n",
    "X_test_scaled = scaler.transform(x_test)\n",
    "predictions = model.predict(X_test_scaled) # Make predictions on the test set"
   ]
  },
  {
   "cell_type": "code",
   "execution_count": 195,
   "id": "3d42c5bf",
   "metadata": {},
   "outputs": [
    {
     "name": "stdout",
     "output_type": "stream",
     "text": [
      "The model score is Testing : 0.9998924161421257\n",
      "The model score is Training : 0.9999847997326982\n"
     ]
    }
   ],
   "source": [
    "print('The model score is Testing :', model.score(X_test_scaled,y_test))\n",
    "print('The model score is Training :', model.score(X_train_scaled,y_train))"
   ]
  },
  {
   "cell_type": "code",
   "execution_count": 196,
   "id": "f9c6a564",
   "metadata": {},
   "outputs": [
    {
     "name": "stdout",
     "output_type": "stream",
     "text": [
      "Mean Squared Error on Test Set: 0.2968230649699748\n",
      "Mean Absolute Error on Test Set: 0.2333954317611852\n",
      "Root Mean Squared Error on Test Set: 0.544814707005946\n"
     ]
    }
   ],
   "source": [
    "mse = mean_squared_error(y_test, predictions)\n",
    "print(\"Mean Squared Error on Test Set:\", mse)\n",
    "mae = mean_absolute_error(y_test, predictions)\n",
    "print(\"Mean Absolute Error on Test Set:\", mae)\n",
    "#from sklearn.metrics import mean_squared_error\n",
    "def root_mean_squared_error(y_test, predictions):\n",
    "    root_mean_squared_error = mean_squared_error(y_test, predictions, squared=False)\n",
    "    return root_mean_squared_error\n",
    "rmse= root_mean_squared_error(y_test, predictions)\n",
    "print(\"Root Mean Squared Error on Test Set:\", rmse)"
   ]
  },
  {
   "cell_type": "code",
   "execution_count": 197,
   "id": "3697dc08",
   "metadata": {},
   "outputs": [
    {
     "data": {
      "text/plain": [
       "0.9998924161421257"
      ]
     },
     "execution_count": 197,
     "metadata": {},
     "output_type": "execute_result"
    }
   ],
   "source": [
    "from sklearn.metrics import r2_score \n",
    "r2_score(y_test, predictions)"
   ]
  },
  {
   "cell_type": "code",
   "execution_count": 198,
   "id": "bd0e570d",
   "metadata": {},
   "outputs": [
    {
     "name": "stdout",
     "output_type": "stream",
     "text": [
      "      Actual Price  Predicted Price\n",
      "1204     46.349998        46.276225\n",
      "1205      1.062500         1.061342\n",
      "1206      0.258929         0.262217\n",
      "1207      1.448571         1.436480\n",
      "1208     44.172501        44.915700\n",
      "1209      0.507143         0.515729\n",
      "1210      0.779157         0.780642\n",
      "1211     26.450001        26.474575\n",
      "1212     24.297501        24.207643\n",
      "1213     15.710000        15.926950\n",
      "1214      2.535357         2.552975\n",
      "1215      4.228571         4.318918\n",
      "1216    152.990005       151.977196\n"
     ]
    }
   ],
   "source": [
    "newdata=pd.DataFrame(y_test, predictions)\n",
    "newdata=pd.DataFrame({'Actual Price' :y_test.flatten(), 'Predicted Price' :predictions.flatten()})\n",
    "print(newdata.tail(13))"
   ]
  },
  {
   "cell_type": "code",
   "execution_count": 199,
   "id": "8842b204",
   "metadata": {},
   "outputs": [
    {
     "data": {
      "text/plain": [
       "<Axes: >"
      ]
     },
     "execution_count": 199,
     "metadata": {},
     "output_type": "execute_result"
    },
    {
     "data": {
      "image/png": "[encoded data removed]",
      "text/plain": [
       "<Figure size 2000x700 with 1 Axes>"
      ]
     },
     "metadata": {},
     "output_type": "display_data"
    }
   ],
   "source": [
    "graph=newdata.tail(50)\n",
    "graph.plot(kind='bar', figsize=(20,7))"
   ]
  },
  {
   "cell_type": "code",
   "execution_count": null,
   "id": "b07a162e",
   "metadata": {},
   "outputs": [],
   "source": []
  },
  {
   "cell_type": "markdown",
   "id": "2385b10b",
   "metadata": {},
   "source": [
    "# Decision Tree Regressor"
   ]
  },
  {
   "cell_type": "code",
   "execution_count": 200,
   "id": "1ca25bbd",
   "metadata": {},
   "outputs": [],
   "source": [
    "x= df[['High', 'Low', 'Open', 'Volume']].values\n",
    "y= df['Close'].values\n",
    "\n",
    "\n",
    "from sklearn.model_selection import train_test_split\n",
    "x_train, x_test, y_train, y_test = train_test_split(x,y, test_size=0.2, random_state = 42)"
   ]
  },
  {
   "cell_type": "code",
   "execution_count": 201,
   "id": "e11fefbb",
   "metadata": {},
   "outputs": [],
   "source": [
    "from sklearn.tree import DecisionTreeRegressor\n",
    "model= DecisionTreeRegressor()"
   ]
  },
  {
   "cell_type": "code",
   "execution_count": 202,
   "id": "e17de02e",
   "metadata": {},
   "outputs": [],
   "source": [
    "scaler = StandardScaler()\n",
    "# Fit scaler on training data and transform training data\n",
    "X_train_scaled = scaler.fit_transform(x_train)"
   ]
  },
  {
   "cell_type": "code",
   "execution_count": 203,
   "id": "6a112bc1",
   "metadata": {},
   "outputs": [],
   "source": [
    "# Perform cross-validation\n",
    "cv_scores = cross_val_score(model, X_train_scaled, y_train, cv=5, scoring='neg_mean_squared_error')\n",
    "cv_scores = -cv_scores  # Convert the negative MSE scores to positive"
   ]
  },
  {
   "cell_type": "code",
   "execution_count": 204,
   "id": "515e16b9",
   "metadata": {},
   "outputs": [
    {
     "name": "stdout",
     "output_type": "stream",
     "text": [
      "Cross-Validation Scores: [0.57523749 0.45315214 0.61259758 0.54589969 0.5370873 ]\n",
      "Mean CV Score: 0.544794841514418\n"
     ]
    }
   ],
   "source": [
    "# Print the cross-validation scores\n",
    "print(\"Cross-Validation Scores:\", cv_scores)\n",
    "print(\"Mean CV Score:\", cv_scores.mean())"
   ]
  },
  {
   "cell_type": "code",
   "execution_count": 205,
   "id": "61340c3f",
   "metadata": {},
   "outputs": [],
   "source": [
    "# Train the model on the entire training set\n",
    "model.fit(X_train_scaled, y_train)\n",
    "# Transform testing data using the same scaler\n",
    "X_test_scaled = scaler.transform(x_test)\n",
    "# Make predictions on the test set\n",
    "predictions = model.predict(X_test_scaled)"
   ]
  },
  {
   "cell_type": "code",
   "execution_count": 206,
   "id": "622406e0",
   "metadata": {},
   "outputs": [
    {
     "name": "stdout",
     "output_type": "stream",
     "text": [
      "The model score is Testing : 0.9998353971995949\n",
      "The model score is Training : 1.0\n"
     ]
    }
   ],
   "source": [
    "print('The model score is Testing :', model.score(X_test_scaled,y_test))\n",
    "print('The model score is Training :', model.score(X_train_scaled,y_train))"
   ]
  },
  {
   "cell_type": "code",
   "execution_count": 207,
   "id": "985b2af8",
   "metadata": {},
   "outputs": [
    {
     "name": "stdout",
     "output_type": "stream",
     "text": [
      "Mean Squared Error on Test Set: 0.4541379039960153\n",
      "Mean Absolute Error on Test Set: 0.28336417701955496\n",
      "Root Mean Squared Error on Test Set: 0.6738975471063946\n"
     ]
    }
   ],
   "source": [
    "mse = mean_squared_error(y_test, predictions)\n",
    "print(\"Mean Squared Error on Test Set:\", mse)\n",
    "\n",
    "mae = mean_absolute_error(y_test, predictions)\n",
    "print(\"Mean Absolute Error on Test Set:\", mae)\n",
    "#from sklearn.metrics import mean_squared_error\n",
    "def root_mean_squared_error(y_test, predictions):\n",
    "    root_mean_squared_error = mean_squared_error(y_test, predictions, squared=False)\n",
    "    return root_mean_squared_error\n",
    "rmse= root_mean_squared_error(y_test, predictions)\n",
    "print(\"Root Mean Squared Error on Test Set:\", rmse)"
   ]
  },
  {
   "cell_type": "code",
   "execution_count": 208,
   "id": "c29a9d3d",
   "metadata": {},
   "outputs": [
    {
     "data": {
      "text/plain": [
       "0.9998353971995949"
      ]
     },
     "execution_count": 208,
     "metadata": {},
     "output_type": "execute_result"
    }
   ],
   "source": [
    "from sklearn.metrics import r2_score \n",
    "r2_score(y_test, predictions)"
   ]
  },
  {
   "cell_type": "code",
   "execution_count": 209,
   "id": "f17cce69",
   "metadata": {},
   "outputs": [
    {
     "name": "stdout",
     "output_type": "stream",
     "text": [
      "      Actual Price  Predicted Price\n",
      "1204     46.349998        46.375000\n",
      "1205      1.062500         1.075893\n",
      "1206      0.258929         0.267679\n",
      "1207      1.448571         1.420000\n",
      "1208     44.172501        45.227501\n",
      "1209      0.507143         0.528214\n",
      "1210      0.779157         0.766183\n",
      "1211     26.450001        26.420000\n",
      "1212     24.297501        24.282499\n",
      "1213     15.710000        15.877500\n",
      "1214      2.535357         2.539643\n",
      "1215      4.228571         4.293571\n",
      "1216    152.990005       151.289993\n"
     ]
    }
   ],
   "source": [
    "newdata=pd.DataFrame(y_test, predictions)\n",
    "newdata=pd.DataFrame({'Actual Price' :y_test.flatten(), 'Predicted Price' :predictions.flatten()})\n",
    "print(newdata.tail(13))"
   ]
  },
  {
   "cell_type": "code",
   "execution_count": 210,
   "id": "00aa4e55",
   "metadata": {},
   "outputs": [
    {
     "data": {
      "text/plain": [
       "<Axes: >"
      ]
     },
     "execution_count": 210,
     "metadata": {},
     "output_type": "execute_result"
    },
    {
     "data": {
      "image/png": "[encoded data removed]",
      "text/plain": [
       "<Figure size 2000x700 with 1 Axes>"
      ]
     },
     "metadata": {},
     "output_type": "display_data"
    }
   ],
   "source": [
    "graph=newdata.tail(50)\n",
    "graph.plot(kind='bar', figsize=(20,7))"
   ]
  },
  {
   "cell_type": "markdown",
   "id": "d4790627",
   "metadata": {},
   "source": [
    "# KNeighborsRegressor"
   ]
  },
  {
   "cell_type": "code",
   "execution_count": 211,
   "id": "1f2e73d3",
   "metadata": {},
   "outputs": [],
   "source": [
    "x= df[['High', 'Low', 'Open', 'Volume']].values\n",
    "y= df['Close'].values\n",
    "\n",
    "from sklearn.model_selection import train_test_split\n",
    "x_train, x_test, y_train, y_test = train_test_split(x,y, test_size=0.2, random_state = 42)"
   ]
  },
  {
   "cell_type": "code",
   "execution_count": 212,
   "id": "d16537b6",
   "metadata": {},
   "outputs": [],
   "source": [
    "from sklearn.neighbors import KNeighborsRegressor\n",
    "model = KNeighborsRegressor()"
   ]
  },
  {
   "cell_type": "code",
   "execution_count": 213,
   "id": "c983dfb1",
   "metadata": {},
   "outputs": [],
   "source": [
    "scaler = StandardScaler()\n",
    "# Fit scaler on training data and transform training data\n",
    "X_train_scaled = scaler.fit_transform(x_train)"
   ]
  },
  {
   "cell_type": "code",
   "execution_count": 214,
   "id": "9a724a95",
   "metadata": {},
   "outputs": [],
   "source": [
    "# Perform cross-validation\n",
    "cv_scores = cross_val_score(model, X_train_scaled, y_train, cv=5, scoring='neg_mean_squared_error')\n",
    "# Convert the negative MSE scores to positive\n",
    "cv_scores = -cv_scores"
   ]
  },
  {
   "cell_type": "code",
   "execution_count": 215,
   "id": "bfbb058b",
   "metadata": {},
   "outputs": [
    {
     "name": "stdout",
     "output_type": "stream",
     "text": [
      "Cross-Validation Scores: [0.74183529 0.54011427 0.63204573 0.67757581 0.70637998]\n",
      "Mean CV Score: 0.6595902152043722\n"
     ]
    }
   ],
   "source": [
    "# Print the cross-validation scores\n",
    "print(\"Cross-Validation Scores:\", cv_scores)\n",
    "print(\"Mean CV Score:\", cv_scores.mean())"
   ]
  },
  {
   "cell_type": "code",
   "execution_count": 216,
   "id": "da7784be",
   "metadata": {},
   "outputs": [],
   "source": [
    "# Train the model on the entire training set\n",
    "model.fit(X_train_scaled, y_train)\n",
    "# Transform testing data using the same scaler\n",
    "X_test_scaled = scaler.transform(x_test)\n",
    "# Make predictions on the test set\n",
    "predictions = model.predict(X_test_scaled)"
   ]
  },
  {
   "cell_type": "code",
   "execution_count": 217,
   "id": "682f9c31",
   "metadata": {},
   "outputs": [
    {
     "name": "stdout",
     "output_type": "stream",
     "text": [
      "The model score is Testing : 0.9998350568438547\n",
      "The model score is Training : 0.9998676336226751\n"
     ]
    }
   ],
   "source": [
    "print('The model score is Testing :', model.score(X_test_scaled,y_test))\n",
    "print('The model score is Training :', model.score(X_train_scaled,y_train))"
   ]
  },
  {
   "cell_type": "code",
   "execution_count": 218,
   "id": "8727b24b",
   "metadata": {},
   "outputs": [
    {
     "name": "stdout",
     "output_type": "stream",
     "text": [
      "Mean Squared Error on Test Set: 0.4550769429558533\n",
      "Mean Absolute Error on Test Set: 0.3820182621087221\n",
      "Root Mean Squared Error on Test Set: 0.6745939096640684\n"
     ]
    }
   ],
   "source": [
    "mse = mean_squared_error(y_test, predictions)\n",
    "print(\"Mean Squared Error on Test Set:\", mse)\n",
    "mae = mean_absolute_error(y_test, predictions)\n",
    "print(\"Mean Absolute Error on Test Set:\", mae)\n",
    "#from sklearn.metrics import mean_squared_error\n",
    "def root_mean_squared_error(y_test, predictions):\n",
    "    root_mean_squared_error = mean_squared_error(y_test, predictions, squared=False)\n",
    "    return root_mean_squared_error\n",
    "rmse= root_mean_squared_error(y_test, predictions)\n",
    "print(\"Root Mean Squared Error on Test Set:\", rmse)"
   ]
  },
  {
   "cell_type": "code",
   "execution_count": 219,
   "id": "71ed780e",
   "metadata": {},
   "outputs": [
    {
     "data": {
      "text/plain": [
       "0.9998350568438547"
      ]
     },
     "execution_count": 219,
     "metadata": {},
     "output_type": "execute_result"
    }
   ],
   "source": [
    "from sklearn.metrics import r2_score \n",
    "r2_score(y_test, predictions)"
   ]
  },
  {
   "cell_type": "code",
   "execution_count": 220,
   "id": "1d89a3dc",
   "metadata": {},
   "outputs": [
    {
     "name": "stdout",
     "output_type": "stream",
     "text": [
      "      Actual Price  Predicted Price\n",
      "1204     46.349998        46.740000\n",
      "1205      1.062500         0.662196\n",
      "1206      0.258929         0.274571\n",
      "1207      1.448571         1.175339\n",
      "1208     44.172501        45.145000\n",
      "1209      0.507143         0.407357\n",
      "1210      0.779157         0.932424\n",
      "1211     26.450001        26.627000\n",
      "1212     24.297501        23.694143\n",
      "1213     15.710000        15.364643\n",
      "1214      2.535357         2.543357\n",
      "1215      4.228571         4.459643\n",
      "1216    152.990005       152.107996\n"
     ]
    }
   ],
   "source": [
    "newdata=pd.DataFrame(y_test, predictions)\n",
    "newdata=pd.DataFrame({'Actual Price' :y_test.flatten(), 'Predicted Price' :predictions.flatten()})\n",
    "print(newdata.tail(13))"
   ]
  },
  {
   "cell_type": "code",
   "execution_count": 221,
   "id": "b5faa026",
   "metadata": {},
   "outputs": [
    {
     "data": {
      "text/plain": [
       "<Axes: >"
      ]
     },
     "execution_count": 221,
     "metadata": {},
     "output_type": "execute_result"
    },
    {
     "data": {
      "image/png": "[encoded data removed]",
      "text/plain": [
       "<Figure size 2000x700 with 1 Axes>"
      ]
     },
     "metadata": {},
     "output_type": "display_data"
    }
   ],
   "source": [
    "graph=newdata.tail(50)\n",
    "graph.plot(kind='bar', figsize=(20,7))"
   ]
  },
  {
   "cell_type": "code",
   "execution_count": null,
   "id": "905d4d22",
   "metadata": {},
   "outputs": [],
   "source": []
  },
  {
   "cell_type": "code",
   "execution_count": 3,
   "id": "8dc22696",
   "metadata": {},
   "outputs": [],
   "source": [
    "import numpy as np\n",
    "import pandas as pd\n",
    "import seaborn as sns\n",
    "import yfinance as yf\n",
    "from datetime import date\n",
    "import matplotlib.pyplot as plt\n",
    "import math\n",
    "from sklearn.metrics import mean_absolute_error, mean_squared_error\n",
    "from sklearn.model_selection import train_test_split\n",
    "from sklearn.linear_model import LinearRegression \n",
    "from sklearn.ensemble import RandomForestRegressor\n",
    "from sklearn.preprocessing import StandardScaler\n"
   ]
  },
  {
   "cell_type": "code",
   "execution_count": 4,
   "id": "1aa19db9",
   "metadata": {},
   "outputs": [],
   "source": [
    "tick = \"INFY\"\n",
    "#tick = \"AAPL\"\n",
    "\n"
   ]
  },
  {
   "cell_type": "code",
   "execution_count": 5,
   "id": "1ce07c62",
   "metadata": {},
   "outputs": [
    {
     "name": "stdout",
     "output_type": "stream",
     "text": [
      "[*********************100%%**********************]  1 of 1 completed\n",
      "Training MSE: 0.0007206272455162692\n",
      "Testing MSE: 0.005140607471438436\n"
     ]
    }
   ],
   "source": [
    "\n",
    "#df=yf.download(tick)\n",
    "start='2010-08-10'\n",
    "TODAY = date.today().strftime(\"%Y-%m-%d\")\n",
    "data = yf.download(tick, start, TODAY)\n",
    "# Function to create lag features\n",
    "def create_lag_features(data, lag_days):\n",
    "    for i in range(1, lag_days + 1):\n",
    "        data[f'lag_{i}'] = data['Close'].shift(i)\n",
    "    return data\n",
    "\n",
    "# Function to prepare data for training\n",
    "def prepare_data(data, lag_days):\n",
    "    data = create_lag_features(data, lag_days)\n",
    "    data.dropna(inplace=True)\n",
    "    X = data.drop(['Close'], axis=1)\n",
    "    y = data['Close']\n",
    "    return X, y\n",
    "\n",
    "# Function to forecast future prices\n",
    "def forecast_prices(model, last_data_point, num_days):\n",
    "    forecast = []\n",
    "    last_data_point = np.array(last_data_point).reshape(1, -1)\n",
    "    for i in range(num_days):\n",
    "        prediction = model.predict(last_data_point)\n",
    "        forecast.append(prediction[0])\n",
    "        last_data_point = np.roll(last_data_point, -1)\n",
    "        last_data_point[0, -1] = prediction\n",
    "    return forecast\n",
    "\n",
    "# Prepare data\n",
    "lag_days = 10\n",
    "X, y = prepare_data(data, lag_days)\n",
    "\n",
    "# Split data into training and testing sets\n",
    "X_train, X_test, y_train, y_test = train_test_split(X, y, test_size=0.2, random_state=42)\n",
    "\n",
    "# Train Random Forest Regressor\n",
    "rf_regressor = RandomForestRegressor(n_estimators=100, random_state=42)\n",
    "#rf_regressor=LinearRegression()\n",
    "rf_regressor.fit(X_train, y_train)\n",
    "# Evaluate model\n",
    "y_pred_train = rf_regressor.predict(X_train)\n",
    "mse_train = mean_squared_error(y_train, y_pred_train)\n",
    "print(\"Training MSE:\", mse_train)\n",
    "\n",
    "y_pred_test = rf_regressor.predict(X_test)\n",
    "mse_test = mean_squared_error(y_test, y_pred_test)\n",
    "print(\"Testing MSE:\", mse_test)\n",
    "import warnings\n",
    "\n",
    "# Ignore all warnings\n",
    "warnings.filterwarnings(\"ignore\")\n",
    "\n",
    "# Forecast future prices\n",
    "last_date = data.index[-1]\n",
    "date_range = pd.date_range(start=last_date, periods=30)  # Include Saturdays and Sundays\n",
    "date_range = date_range[date_range.weekday < 5]  # Filter out Saturdays and Sundays\n",
    "\n",
    "#date_range = date_range[1:]  # Exclude last date and start from the next day (Monday)\n",
    "#last_data_point = data.tail(1).drop(['Close'], axis=1).values.flatten()\n",
    "#forecast_cp = forecast_prices(rf_regressor, last_data_point, num_days=len(date_range))\n",
    "#forecast_lowprice -= 30\n",
    "\n",
    "# Combine dates with forecasted values\n",
    "#forecast_df = pd.DataFrame({'Date': date_range, 'Forecasted_CP': forecast_cp})\n",
    "#print(forecast_df)\n",
    "#st.subheader('30 days forecasted price')\n",
    "#st.write(forecast_df)"
   ]
  },
  {
   "cell_type": "code",
   "execution_count": 6,
   "id": "9dcd3ce5",
   "metadata": {},
   "outputs": [
    {
     "name": "stdout",
     "output_type": "stream",
     "text": [
      "Public holidays in IN for the year 2024: [Timestamp('2024-01-14 00:00:00', freq='D'), Timestamp('2024-01-26 00:00:00', freq='D'), Timestamp('2024-03-24 00:00:00', freq='D'), Timestamp('2024-03-25 00:00:00', freq='D'), Timestamp('2024-03-29 00:00:00', freq='D'), Timestamp('2024-03-31 00:00:00', freq='D'), Timestamp('2024-04-10 00:00:00', freq='D'), Timestamp('2024-04-11 00:00:00', freq='D'), Timestamp('2024-05-01 00:00:00', freq='D'), Timestamp('2024-05-19 00:00:00', freq='D'), Timestamp('2024-06-16 00:00:00', freq='D'), Timestamp('2024-06-17 00:00:00', freq='D'), Timestamp('2024-07-16 00:00:00', freq='D'), Timestamp('2024-08-15 00:00:00', freq='D'), Timestamp('2024-09-15 00:00:00', freq='D'), Timestamp('2024-10-02 00:00:00', freq='D'), Timestamp('2024-11-01 00:00:00', freq='D'), Timestamp('2024-12-25 00:00:00', freq='D')]\n"
     ]
    }
   ],
   "source": [
    "import holidays\n",
    "from datetime import date\n",
    "\n",
    "# Define the country for which you want to identify public holidays\n",
    "country = 'IN'  # Example: United States\n",
    "\n",
    "# Create a Holiday object for the specified country\n",
    "us_holidays = holidays.CountryHoliday(country)\n",
    "\n",
    "# Define the date range for which you want to check public holidays\n",
    "start_date = date(2024, 1, 1)\n",
    "end_date = date(2024, 12, 31)\n",
    "\n",
    "# Iterate through the date range and check if each date is a public holiday\n",
    "public_holidays = []\n",
    "for single_date in pd.date_range(start_date, end_date):\n",
    "    if single_date in us_holidays:\n",
    "        public_holidays.append(single_date)\n",
    "\n",
    "print(\"Public holidays in\", country, \"for the year 2024:\", public_holidays)\n"
   ]
  },
  {
   "cell_type": "code",
   "execution_count": 7,
   "id": "fcac8864",
   "metadata": {},
   "outputs": [
    {
     "name": "stdout",
     "output_type": "stream",
     "text": [
      "         Date  Forecasted_CP\n",
      "0  2024-04-29        16.9512\n",
      "1  2024-04-30        16.8790\n",
      "2  2024-05-02        18.6892\n",
      "3  2024-05-03        20.0758\n",
      "4  2024-05-06        16.9564\n",
      "5  2024-05-07        16.9622\n",
      "6  2024-05-08        17.1369\n",
      "7  2024-05-09        17.0964\n",
      "8  2024-05-10        16.6560\n",
      "9  2024-05-13        16.8067\n",
      "10 2024-05-14        16.7397\n",
      "11 2024-05-15        16.9837\n",
      "12 2024-05-16        17.2325\n",
      "13 2024-05-17        17.4963\n",
      "14 2024-05-20        16.9029\n",
      "15 2024-05-21        16.9748\n",
      "16 2024-05-22        19.5307\n",
      "17 2024-05-23        18.1891\n",
      "18 2024-05-24        16.8920\n"
     ]
    }
   ],
   "source": [
    "date_range = [d for d in date_range if d not in public_holidays]\n",
    "\n",
    "date_range = date_range[1:]  # Exclude last date and start from the next day (Monday)\n",
    "\n",
    "last_data_point = data.tail(1).drop(['Close'], axis=1).values.flatten()\n",
    "forecast_cp = forecast_prices(rf_regressor, last_data_point, num_days=len(date_range))\n",
    "\n",
    "# Combine dates with forecasted values\n",
    "forecast_df = pd.DataFrame({'Date': date_range, 'Forecasted_CP': forecast_cp})\n",
    "print(forecast_df)"
   ]
  },
  {
   "cell_type": "code",
   "execution_count": null,
   "id": "0a841c51",
   "metadata": {},
   "outputs": [],
   "source": []
  }
 ],
 "metadata": {
  "kernelspec": {
   "display_name": "Python 3 (ipykernel)",
   "language": "python",
   "name": "python3"
  },
  "language_info": {
   "codemirror_mode": {
    "name": "ipython",
    "version": 3
   },
   "file_extension": ".py",
   "mimetype": "text/x-python",
   "name": "python",
   "nbconvert_exporter": "python",
   "pygments_lexer": "ipython3",
   "version": "3.11.5"
  }
 },
 "nbformat": 4,
 "nbformat_minor": 5
}
